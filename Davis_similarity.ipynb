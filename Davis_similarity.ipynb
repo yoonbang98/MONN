{
  "nbformat": 4,
  "nbformat_minor": 0,
  "metadata": {
    "colab": {
      "provenance": []
    },
    "kernelspec": {
      "name": "python3",
      "display_name": "Python 3"
    },
    "language_info": {
      "name": "python"
    }
  },
  "cells": [
    {
      "cell_type": "code",
      "execution_count": null,
      "metadata": {
        "colab": {
          "base_uri": "https://localhost:8080/"
        },
        "id": "RMSDkl8wwSBm",
        "outputId": "da9ff152-52bd-47e1-9d7a-2ef04726907b"
      },
      "outputs": [
        {
          "output_type": "stream",
          "name": "stdout",
          "text": [
            "Looking in indexes: https://pypi.org/simple, https://us-python.pkg.dev/colab-wheels/public/simple/\n",
            "Requirement already satisfied: rdkit in /usr/local/lib/python3.7/dist-packages (2022.3.5)\n",
            "Requirement already satisfied: Pillow in /usr/local/lib/python3.7/dist-packages (from rdkit) (7.1.2)\n",
            "Requirement already satisfied: numpy in /usr/local/lib/python3.7/dist-packages (from rdkit) (1.21.6)\n"
          ]
        }
      ],
      "source": [
        "! pip install rdkit"
      ]
    },
    {
      "cell_type": "code",
      "source": [
        "from rdkit import Chem\n",
        "from rdkit.Chem import AllChem\n",
        "from rdkit import Chem, DataStructs\n",
        "\n",
        "mol1 = 'CC1=C(C=C(C=C1)NC(=O)C2=CC=C(C=C2)CN3CCN(CC3)C)NC4=NC=CC(=N4)C5=CN=CC=C5'\n",
        "mol2 = 'CC1=C(C=C(C=C1)C(=O)NC2=CC(=CC(=C2)C(F)(F)F)N3C=C(N=C3)C)NC4=NC=CC(=N4)C5=CN=CC=C5'\n",
        "mol1 = Chem.MolFromSmiles(mol1)\n",
        "mol2 = Chem.MolFromSmiles(mol2)\n"
      ],
      "metadata": {
        "id": "EAZf6hZvwswL"
      },
      "execution_count": null,
      "outputs": []
    },
    {
      "cell_type": "code",
      "source": [
        "fp1 = AllChem.GetMorganFingerprint(mol1,2)\n",
        "fp2 = AllChem.GetMorganFingerprint(mol2,2)\n",
        "DataStructs.DiceSimilarity(fp1,fp2)"
      ],
      "metadata": {
        "colab": {
          "base_uri": "https://localhost:8080/"
        },
        "id": "mW_UnI0ezFrs",
        "outputId": "75c95006-832a-4af5-87d7-169956c330d2"
      },
      "execution_count": null,
      "outputs": [
        {
          "output_type": "execute_result",
          "data": {
            "text/plain": [
              "0.6757990867579908"
            ]
          },
          "metadata": {},
          "execution_count": 20
        }
      ]
    },
    {
      "cell_type": "code",
      "source": [
        "DataStructs.CosineSimilarity(fp1,fp2)"
      ],
      "metadata": {
        "id": "zFQeKuKN2aHC"
      },
      "execution_count": null,
      "outputs": []
    },
    {
      "cell_type": "code",
      "source": [
        "ffp1 = AllChem.GetMorganFingerprintAsBitVect(mol1,2,nBits=1024)\n",
        "ffp2 = AllChem.GetMorganFingerprintAsBitVect(mol2,2,nBits=1024)\n",
        "DataStructs.DiceSimilarity(ffp1,ffp2)"
      ],
      "metadata": {
        "colab": {
          "base_uri": "https://localhost:8080/"
        },
        "id": "4nROpoWEyI0L",
        "outputId": "a8534081-0bc1-400e-fdc6-912919953ea6"
      },
      "execution_count": null,
      "outputs": [
        {
          "output_type": "execute_result",
          "data": {
            "text/plain": [
              "0.6865671641791045"
            ]
          },
          "metadata": {},
          "execution_count": 17
        }
      ]
    },
    {
      "cell_type": "code",
      "source": [
        "DataStructs.CosineSimilarity(fp1,fp2)"
      ],
      "metadata": {
        "id": "t5NItnsq0ehQ"
      },
      "execution_count": null,
      "outputs": []
    }
  ]
}